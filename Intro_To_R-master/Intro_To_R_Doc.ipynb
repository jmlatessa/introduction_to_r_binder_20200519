{
 "cells": [
  {
   "cell_type": "markdown",
   "metadata": {},
   "source": [
    "---\n",
    "title: \"Introduction to R\"\n",
    "author: \"Dorcas Washington\"\n",
    "date: \"May 19, 2020\"\n",
    "output: html_document\n",
    "---"
   ]
  },
  {
   "cell_type": "code",
   "execution_count": null,
   "metadata": {
    "attributes": {
     "classes": [],
     "id": "",
     "include": "FALSE"
    }
   },
   "outputs": [],
   "source": [
    "knitr::opts_chunk$set(echo = TRUE)"
   ]
  },
  {
   "cell_type": "markdown",
   "metadata": {},
   "source": [
    "## Workshop Summary and Contact Information\n",
    "\n",
    "**Summary:** R is a free and powerful programming language that is commonly used by researchers in both qualitative and quantitative disciplines. R provides a near comprehensive, and still expanding set of research and data analysis tools. This workshop provides a gradual introduction to the basics of programming with R using R Studio. As a participant in this workshop you will accomplish the following: explore the R Studio interface, perform basic data manipulation, learn how to install and run packages, conduct simple data analyses, and produce basic data visualizations. The focus of this workshop will be hands-on exercises to provide a deeper and more effective understanding of R. No programming experience is required, and beginners are encouraged to attend.\n",
    "\n",
    "**Contact:**   \n",
    "Email: washids@uc.edu\n",
    "\n",
    "Virtual Location: https://ucincinnati.webex.com/meet/washids\n",
    "\n",
    "Physical Location : 240 Braunstein Hall (Geology-Math-Physics Library)\n",
    "\n",
    "Research & Data Services Website: https://libraries.uc.edu/digital-scholarship/data-services.html\n",
    "\n",
    "GitHub: dorcasmarie\n",
    "\n",
    "\n",
    "### **R Interface Basics**\n",
    "\n",
    "##### **R as a calculator**"
   ]
  },
  {
   "cell_type": "code",
   "execution_count": null,
   "metadata": {
    "attributes": {
     "": "",
     "classes": [],
     "id": ""
    }
   },
   "outputs": [],
   "source": [
    "1+2"
   ]
  },
  {
   "cell_type": "markdown",
   "metadata": {},
   "source": [
    "##### **Object and Assignments**"
   ]
  },
  {
   "cell_type": "code",
   "execution_count": null,
   "metadata": {},
   "outputs": [],
   "source": [
    "%%R\n",
    "x <- 1+2\n",
    "\n",
    "y <- x +1"
   ]
  },
  {
   "cell_type": "markdown",
   "metadata": {},
   "source": [
    "##### **Naming Conventions**\n",
    "Keep names short, sweet, and relevent so anyone can follow your script!  \n",
    "  \n",
    "**Common Naming Conventions** \n",
    "Snake Case: \"i_use_snake_case\"   \n",
    "Camel Case  \"iUseCamelCase\"  \n",
    "Periods \"i.use.periods\"  \n",
    "Combinations \"iCant_decide.which_toUse\"   \n",
    "  \n",
    "**Naming Hints**  \n",
    "R is case sensative, so x != X  \n",
    "Objects must start with a letter  \n",
    "Use only numbers, letters, and _\n",
    "\n",
    "##### **Understanding Functions**\n",
    "Function formating: function_name(arg1 = val1, arg2 = val2)  \n",
    "**HINT:** if you can't remember exactly what function you are looking we can use Tab    \n",
    "Now that you found the function, How do you use it?  \n",
    "**HINT:** Use the ? to find R documentation on an object"
   ]
  },
  {
   "cell_type": "code",
   "execution_count": null,
   "metadata": {
    "attributes": {
     "": "",
     "classes": [],
     "id": ""
    }
   },
   "outputs": [],
   "source": [
    "?seq()"
   ]
  },
  {
   "cell_type": "markdown",
   "metadata": {},
   "source": [
    "##### <span style = \"color:blue\">**TASK 1A**</span>  \n",
    "How would you create a sequence of numbers from 1 to 10 using the seq() function?"
   ]
  },
  {
   "cell_type": "markdown",
   "metadata": {},
   "source": [
    "##### <span style=\"color:blue\">**TASK 1B**</span>  \n",
    "How would you create a sequence of numbers from 1 to 10 by 0.5 and save it to an object called Seq?  \n",
    "Optional: Create a equal interval sequence from 1:20 that is 5 numbers long"
   ]
  },
  {
   "cell_type": "markdown",
   "metadata": {},
   "source": [
    "### **Working with Data Tables**\n",
    "\n",
    "##### **Installing R package from CRAN Repository**\n",
    "To access specific packages, that are not on base R, you must install that package before you can you use it. However, you only have to install a package once (per computer).  \n",
    "\n",
    "Once the package is installed you have to run or open that package using the library function. This needs to be done everytime you open R Studio"
   ]
  },
  {
   "cell_type": "code",
   "execution_count": null,
   "metadata": {
    "attributes": {
     "classes": [],
     "eval": "FALSE",
     "id": ""
    }
   },
   "outputs": [],
   "source": [
    "install.packages(\"tidyverse\")\n",
    "library(tidyverse)"
   ]
  },
  {
   "cell_type": "markdown",
   "metadata": {},
   "source": [
    "##### **Quibbles with Tibbles**\n",
    "Stolen from a tweet from Hadley Wickham  \n",
    "**Tibbles** are modified versions of data.frames which make life in R a little easier.  \n",
    "The tibble package and function is already installed under the tidyverse.  \n",
    "\n",
    "Here is an example of a tibble with 4 variables with 10 values using diffent methods"
   ]
  },
  {
   "cell_type": "code",
   "execution_count": null,
   "metadata": {
    "attributes": {
     "": "",
     "classes": [],
     "id": ""
    }
   },
   "outputs": [],
   "source": [
    "vignette(\"tibble\")\n",
    "\n",
    "df_exp <- tibble::tibble(\n",
    "  a = seq(1,10),\n",
    "  b = rnorm(10),\n",
    "  c = c(11:20),\n",
    "  d = c(0.1,0.2,0.3,0.4,0.5,0.6,0.7,0.8,0.9,1.0)\n",
    ")"
   ]
  },
  {
   "cell_type": "markdown",
   "metadata": {},
   "source": [
    "##### <span style=\"color:blue\">**TASK 2A**</span>  \n",
    "What code would create a new tibble called \"df\" with two variables (\"A\" and \"B\") each with 20 different sets of observations?"
   ]
  },
  {
   "cell_type": "markdown",
   "metadata": {},
   "source": [
    "##### **Adding a column with mutate**\n",
    "We will add a new column (\"C\"\") to our table from <span style=\"color:blue\">**TASK 2A**</span> using the mutate function from the dplyr package.    \n",
    "\n",
    "We also will need to use the pipe (%>%) function which allows us to continue code, similar to an \"and do this\". \n",
    "**Hint** Using ctrl + shift + m is the shortcut key for pipe (%>%)."
   ]
  },
  {
   "cell_type": "code",
   "execution_count": null,
   "metadata": {
    "attributes": {
     "": "FALSE",
     "classes": [],
     "id": ""
    }
   },
   "outputs": [],
   "source": [
    "df <- df %>%\n",
    "  dplyr::mutate(C = A/B)"
   ]
  },
  {
   "cell_type": "markdown",
   "metadata": {},
   "source": [
    "##### **Exploring a data table**\n",
    "Using brackets we can explore the values within certain positions of the table.  \n",
    "For example, we want to see all rows in column 2 or the first 5 rows in each coloumn."
   ]
  },
  {
   "cell_type": "code",
   "execution_count": null,
   "metadata": {
    "attributes": {
     "classes": [],
     "eval": "FALSE",
     "id": ""
    }
   },
   "outputs": [],
   "source": [
    "df[,2]\n",
    "df[5,]"
   ]
  },
  {
   "cell_type": "markdown",
   "metadata": {},
   "source": [
    "##### <span style=\"color:blue\">**TASK 2B**</span>  \n",
    "What code would return the value in row 10 of column 3?"
   ]
  },
  {
   "cell_type": "markdown",
   "metadata": {},
   "source": [
    "##### <span style=\"color:blue\">**TASK 2C**</span>  \n",
    "Based on this idea, What code would return the 3rd through 5th rows for the 2nd and 3rd columns?"
   ]
  },
  {
   "cell_type": "markdown",
   "metadata": {},
   "source": [
    "##### **Saving a data table**\n",
    "Now that we have created our data set we want to save it as a CSV file."
   ]
  },
  {
   "cell_type": "code",
   "execution_count": null,
   "metadata": {
    "attributes": {
     "classes": [],
     "eval": "FALSE",
     "id": ""
    }
   },
   "outputs": [],
   "source": [
    "write_csv(df, \"C:/temp/my_table.csv\")"
   ]
  },
  {
   "cell_type": "markdown",
   "metadata": {},
   "source": [
    "### **Exploring and Summarizing Data**\n",
    "\n",
    "##### **Opening CSV Files**\n",
    "Using the read.csv function we can open the CSV table data we created from before."
   ]
  },
  {
   "cell_type": "code",
   "execution_count": null,
   "metadata": {
    "attributes": {
     "classes": [],
     "eval": "FALSE",
     "id": ""
    }
   },
   "outputs": [],
   "source": [
    "df <- read.csv(\"C:/temp/my_table.csv\")"
   ]
  },
  {
   "cell_type": "markdown",
   "metadata": {},
   "source": [
    "##### **Adding a new column to a data set**\n",
    "We can add a new column to or existing data set by using the dollar sign ($) symbol with the name we want for our new column after symbol.  We want to add some non-numeric data to our table, so let use the letters a-t or letters that correspond to the 1st through 20th letter."
   ]
  },
  {
   "cell_type": "code",
   "execution_count": null,
   "metadata": {
    "attributes": {
     "classes": [],
     "eval": "FALSE",
     "id": ""
    }
   },
   "outputs": [],
   "source": [
    "df$Name <- letters[1:20]"
   ]
  },
  {
   "cell_type": "markdown",
   "metadata": {},
   "source": [
    "##### **Viewing a data set**\n",
    "We can view our data in multiple ways but typically this is done by clicking the data set in the top left corner under the environment tab or using the View() function.  \n",
    "\n",
    "Sometimes it is also important to view all of the columns or variables in a data set, this can be done using the names() function.  \n",
    "\n",
    "Examining the structure of the data set is extremely important especially when we need to run analyses or visualize your data.  \n",
    "\n",
    "**Hint** always view your data table and look at the structure of your data before working with a new data set."
   ]
  },
  {
   "cell_type": "code",
   "execution_count": null,
   "metadata": {
    "attributes": {
     "classes": [],
     "eval": "FALSE",
     "id": ""
    }
   },
   "outputs": [],
   "source": [
    "View(df)\n",
    "names(df)\n",
    "str(df)"
   ]
  },
  {
   "cell_type": "markdown",
   "metadata": {},
   "source": [
    "##### **Summarizing Data and Descriptive Statsitics**\n",
    "\n",
    "Another very helpful function is summary(), which provides the basic overview of your data including min, max, quartiles, median, etc.   \n",
    "\n",
    "If further statistical information is needed, use the stat.desc() function from the pastecs package as an effecient method to explore basic (similar to summary), descriptive statsitcal, and nromal distribution information. Use ?stat.desc for more information."
   ]
  },
  {
   "cell_type": "code",
   "execution_count": null,
   "metadata": {
    "attributes": {
     "classes": [],
     "eval": "FALSE",
     "id": ""
    }
   },
   "outputs": [],
   "source": [
    "summary(df)\n",
    "\n",
    "#install.packages(\"pastecs\")\n",
    "library(pastecs)\n",
    "?stat.desc()\n",
    "stat.desc(df)"
   ]
  },
  {
   "cell_type": "markdown",
   "metadata": {},
   "source": [
    "### **Visualizing and Plotting Data**\n",
    "The R community has a choice between base R plotting and ggplot2  \n",
    "The community is split on which they prefer, but I find ggplot2 easier to teach and learn when new to R programming. \n",
    "\n",
    "In order to use this package we must install and download ggplot2"
   ]
  },
  {
   "cell_type": "code",
   "execution_count": null,
   "metadata": {
    "attributes": {
     "classes": [],
     "eval": "FALSE",
     "id": ""
    }
   },
   "outputs": [],
   "source": [
    "#install.packages(\"ggplot2\")\n",
    "library(\"ggplot2\")"
   ]
  },
  {
   "cell_type": "markdown",
   "metadata": {},
   "source": [
    "We will use a predefined data set that is built into R for this section.\n",
    "\n",
    "The MPG data set is a table 234 observations and 11 variables focusing on car performance and efficieny. Load, view, and explore the dataset."
   ]
  },
  {
   "cell_type": "code",
   "execution_count": null,
   "metadata": {
    "attributes": {
     "classes": [],
     "eval": "FALSE",
     "id": ""
    }
   },
   "outputs": [],
   "source": [
    "#Load and save the data set into our working environment\n",
    "mpg <- mpg\n",
    "\n",
    "#View and explore the data\n",
    "View(mpg)\n",
    "str(mpg)\n",
    "summary(mpg)"
   ]
  },
  {
   "cell_type": "markdown",
   "metadata": {},
   "source": [
    "##### **The Grammar of Graphics**\n",
    "Don't Freak Out!"
   ]
  },
  {
   "cell_type": "code",
   "execution_count": null,
   "metadata": {
    "attributes": {
     "classes": [],
     "eval": "FALSE",
     "id": ""
    }
   },
   "outputs": [],
   "source": [
    "ggplot(data = <DATA>) +   \n",
    "  <GEOM_FUNCTION>(mapping = aes(<MAPPINGS>),  \n",
    "                  stat = <STAT>,  \n",
    "                  position = <POSITION>) +  \n",
    "  <COORDINATE_FUNCTION> +  \n",
    "  <FACET_FUNCTION> +   \n",
    "  <SCALE_FUNCTION> +  \n",
    "  <THEME_FUNCTION>  "
   ]
  },
  {
   "cell_type": "markdown",
   "metadata": {},
   "source": [
    "#####**Exploring Geoms**"
   ]
  },
  {
   "cell_type": "code",
   "execution_count": null,
   "metadata": {
    "attributes": {
     "classes": [],
     "eval": "FALSE",
     "id": ""
    }
   },
   "outputs": [],
   "source": [
    "geom_\n",
    "geom_bar\n",
    "geom_point\n",
    "geom_boxplot\n",
    "geom_line\n",
    "geom_violin"
   ]
  },
  {
   "cell_type": "markdown",
   "metadata": {},
   "source": [
    "##### **Creating Basic Data Visualizations**  \n",
    "\n",
    "**Bar Charts**   \n",
    "First lets look at a bar chart showing the counts of each class."
   ]
  },
  {
   "cell_type": "code",
   "execution_count": null,
   "metadata": {},
   "outputs": [],
   "source": [
    "%%R\n",
    "library(ggplot2)\n",
    "ggplot(data=mpg) + \n",
    "  geom_bar(mapping = aes(x=class))"
   ]
  },
  {
   "cell_type": "markdown",
   "metadata": {},
   "source": [
    "By simply changing the x axis from class to manufacture we can create a new bar chart displaying the counts of each manufacture."
   ]
  },
  {
   "cell_type": "code",
   "execution_count": null,
   "metadata": {},
   "outputs": [],
   "source": [
    "%%R\n",
    "ggplot(data=mpg) + \n",
    "  geom_bar(mapping = aes(x=manufacturer))"
   ]
  },
  {
   "cell_type": "markdown",
   "metadata": {},
   "source": [
    "Once you are more comfortable with this process you can remove the arguement names to simplify the code."
   ]
  },
  {
   "cell_type": "code",
   "execution_count": null,
   "metadata": {
    "attributes": {
     "classes": [],
     "eval": "FALSE",
     "id": ""
    }
   },
   "outputs": [],
   "source": [
    "ggplot(data=mpg) + \n",
    "  geom_bar(mapping = aes(x=class))\n",
    "\n",
    "ggplot(data=mpg) + \n",
    "  geom_bar(mapping = aes(x=manufacturer))"
   ]
  },
  {
   "cell_type": "markdown",
   "metadata": {},
   "source": [
    "We can add another dimension to our chart to display counts by manufacturer with each manufacture total being separated into colors corresponding to cylinder counts.\n",
    "\n",
    "**Hint** Look back at the grammar of graphics template to see where position is be placed"
   ]
  },
  {
   "cell_type": "code",
   "execution_count": null,
   "metadata": {},
   "outputs": [],
   "source": [
    "%%R\n",
    "ggplot(data=mpg) + \n",
    "  geom_bar(mapping = aes(x=manufacturer, fill = cyl),\n",
    "           position = \"stack\")"
   ]
  },
  {
   "cell_type": "markdown",
   "metadata": {},
   "source": [
    "This doesn't look right! What went wrong? \n",
    "**Hint** Examine the structure of the data again to see what type of data cyl is classified as.  \n",
    "\n",
    "We can fix this by manually changing the cyl column from a numeric value to a factor. Then re-running our code from above.  \n",
    "\n",
    "What stands out to you? Which manufacturers focus on performance, which on efficiency?"
   ]
  },
  {
   "cell_type": "code",
   "execution_count": null,
   "metadata": {},
   "outputs": [],
   "source": [
    "%%R\n",
    "mpg$cyl <- as.factor(mpg$cyl)\n",
    "ggplot(data=mpg) + geom_bar(mapping = aes(x=manufacturer, fill = cyl),\n",
    "                            position = \"stack\") "
   ]
  },
  {
   "cell_type": "markdown",
   "metadata": {},
   "source": [
    "**Scatter Plots**  \n",
    "Using scatter plots we can explore and compare two continuous varibles."
   ]
  },
  {
   "cell_type": "code",
   "execution_count": null,
   "metadata": {},
   "outputs": [],
   "source": [
    "%%R\n",
    "ggplot(data=mpg) +\n",
    "  geom_point(mapping = aes(x=cty, y=hwy))"
   ]
  },
  {
   "cell_type": "markdown",
   "metadata": {},
   "source": [
    "We can evaluate additional variables with the addition of color, shapes, and sizes.  \n",
    "**Hint** Be aware that using too many colors, shapes, and sizes can conflate your message. Rule of thumb is to use less than 6 colors or shapes, and only use size for continuous variables."
   ]
  },
  {
   "cell_type": "code",
   "execution_count": null,
   "metadata": {},
   "outputs": [],
   "source": [
    "%%R\n",
    "ggplot(data=mpg) +\n",
    "  geom_point(mapping = aes(x=cty, y=hwy, color = class))"
   ]
  },
  {
   "cell_type": "markdown",
   "metadata": {},
   "source": [
    "**Facet Grids**  \n",
    "Facets are extremely useful when you want to display information grouped by a specific variable.  \n",
    "For example we can show the same scatter plot from above but use facet to show each class within its own scatter plot window."
   ]
  },
  {
   "cell_type": "code",
   "execution_count": null,
   "metadata": {},
   "outputs": [],
   "source": [
    "%%R\n",
    "ggplot(data=mpg) + \n",
    "  geom_point(mapping = aes(x=cty, y=hwy)) + \n",
    "  facet_wrap(~class)"
   ]
  },
  {
   "cell_type": "markdown",
   "metadata": {},
   "source": [
    "##### **Adding Graphical Elements**\n",
    "All the plots we have made so far are using the defaults.  \n",
    "These defaults are fine when quickly exploring data, but are not very aesthetically appealing.  \n",
    "We can use themes and lables to better present and explain our data.  \n",
    "\n",
    "There are many other tools, packages, and techniques that can utilized to manipulate the graphics in R, but this is beyond the scope of our intro workshop."
   ]
  },
  {
   "cell_type": "code",
   "execution_count": null,
   "metadata": {},
   "outputs": [],
   "source": [
    "%%R\n",
    "ggplot(data=mpg) + \n",
    "  geom_point(mapping = aes(x=cty, y=hwy)) + \n",
    "  facet_wrap(~class) +\n",
    "  theme_bw() +\n",
    "  labs(title = \"Vehicle Fuel Efficiency\", x=\"City\\n(MPG)\", y = \"Highway\\n(MPG)\")"
   ]
  },
  {
   "cell_type": "markdown",
   "metadata": {},
   "source": [
    "##### <span style = \"color:blue\">**TASK 4A**</span>  \n",
    "Lets put it all together and use the table you created from section 2 to your own data visualization."
   ]
  },
  {
   "cell_type": "markdown",
   "metadata": {},
   "source": [
    "**Saving a Plot**\n",
    "Congratulations!!! You have successfully created your own data and data visualizion.  \n",
    "The final step is to save your plot using ggsave."
   ]
  },
  {
   "cell_type": "code",
   "execution_count": null,
   "metadata": {
    "attributes": {
     "classes": [],
     "eval": "FALSE",
     "id": ""
    }
   },
   "outputs": [],
   "source": [
    "ggsave(filename = \"My_Plot\",plot = my_plot, device = \"png\", path = \"C:/temp\")\n"
   ]
  },
  {
   "cell_type": "markdown",
   "metadata": {},
   "source": [
    "### **Answers**\n",
    "##### <span style = \"color:blue\">**TASK 1A**</span>  \n",
    "How would you create a sequence of numbers from 1 to 10 using the seq() function?"
   ]
  },
  {
   "cell_type": "code",
   "execution_count": null,
   "metadata": {},
   "outputs": [],
   "source": [
    "%%R\n",
    "seq(1,10)"
   ]
  },
  {
   "cell_type": "markdown",
   "metadata": {},
   "source": [
    "##### <span style=\"color:blue\">**TASK 1B**</span>  \n",
    "How would you create a sequence of numbers from 1 to 10 by 0.5 and save it to an object called Seq?  \n",
    "Optional: Create a equal interval sequence from 1:20 that is 5 numbers long"
   ]
  },
  {
   "cell_type": "code",
   "execution_count": null,
   "metadata": {},
   "outputs": [],
   "source": [
    "%%R\n",
    "Seq <- seq(1,10, by =0.5) #define step by value\n",
    "Seq\n",
    "Seq2 <- seq(1,20, length.out = 5) #Defined number of values\n",
    "Seq2"
   ]
  },
  {
   "cell_type": "markdown",
   "metadata": {},
   "source": [
    "##### <span style=\"color:blue\">**TASK 2A**</span>  \n",
    "What code would create a new tibble called \"df\" with two variables (\"A\" and \"B\") each with 20 different sets of observations?"
   ]
  },
  {
   "cell_type": "code",
   "execution_count": null,
   "metadata": {
    "attributes": {
     "": "FALSE",
     "classes": [],
     "id": ""
    }
   },
   "outputs": [],
   "source": [
    "df <- tibble::tibble(\n",
    "  A = seq(1,20),\n",
    "  B = rnorm(20)\n",
    ")\n",
    "df"
   ]
  },
  {
   "cell_type": "markdown",
   "metadata": {},
   "source": [
    "##### <span style=\"color:blue\">**TASK 2B**</span>  \n",
    "What code would return the value in row 10 of column 3?"
   ]
  },
  {
   "cell_type": "code",
   "execution_count": null,
   "metadata": {
    "attributes": {
     "": "FALSE",
     "classes": [],
     "id": ""
    }
   },
   "outputs": [],
   "source": [
    "df[10,3]"
   ]
  },
  {
   "cell_type": "markdown",
   "metadata": {},
   "source": [
    "##### <span style=\"color:blue\">**TASK 2C**</span>  \n",
    "Based on this idea, What code would return the 3rd through 5th rows for the 2nd and 3rd columns?"
   ]
  },
  {
   "cell_type": "code",
   "execution_count": null,
   "metadata": {
    "attributes": {
     "": "FALSE",
     "classes": [],
     "id": ""
    }
   },
   "outputs": [],
   "source": [
    "df[3:5,2:3]"
   ]
  },
  {
   "cell_type": "markdown",
   "metadata": {},
   "source": [
    "##### <span style = \"color:blue\">**TASK 4A**</span>  \n",
    "Use the table you created from section 2 and create your own data visualization"
   ]
  },
  {
   "cell_type": "code",
   "execution_count": null,
   "metadata": {
    "attributes": {
     "": "",
     "classes": [],
     "id": ""
    }
   },
   "outputs": [],
   "source": [
    "ggplot(data = df) + \n",
    "  geom_point(aes(x=df$A, y=df$B, color = df$C)) +\n",
    "  theme_classic() +\n",
    "  labs(title = \"My First R Plot\", x=\"A\", y = \"B\")"
   ]
  }
 ],
 "metadata": {},
 "nbformat": 4,
 "nbformat_minor": 4
}
